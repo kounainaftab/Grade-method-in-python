{
  "nbformat": 4,
  "nbformat_minor": 0,
  "metadata": {
    "colab": {
      "provenance": []
    },
    "kernelspec": {
      "name": "python3",
      "display_name": "Python 3"
    },
    "language_info": {
      "name": "python"
    }
  },
  "cells": [
    {
      "cell_type": "code",
      "execution_count": null,
      "metadata": {
        "id": "CPIVMnImvYwC"
      },
      "outputs": [],
      "source": []
    },
    {
      "cell_type": "markdown",
      "source": [
        "**Grading System in Python**"
      ],
      "metadata": {
        "id": "Xb4Gk6TmvblN"
      }
    },
    {
      "cell_type": "code",
      "source": [
        "#Simple Grade Calculator\n",
        "#This Python program allows users to enter their marks and determines their grade based on predefined criteria. 🎓✅\n",
        "#Step 1: Take Input from the User\n",
        "#Step 2: Check the Marks and Assign a Grade\n",
        "#🏆 Check for A+ Grade\n",
        "#🥇 Check for A Grade\n",
        "#🥉 Check for C Grade\n",
        "#⚠ Check for D Grade\n",
        "#❌ Check for F Grade (Fail)\n",
        "#❌ If marks are less than 50, it prints \"F (You are fail)\"\n"
        "marks = float(input(\"Enter your number: \"))\n",
        "if marks >= 90:\n",
        "    print(\"A+ (Excellent)\")\n",
        "elif marks >= 80:\n",
        "    print(\"A (Very Good)\")\n",
        "elif marks >= 70:\n",
        "    print(\"B (Good)\")\n",
        "elif marks >= 60:\n",
        "    print(\"C (Average)\")\n",
        "elif marks >= 50:\n",
        "    print(\"D (Below Average)\")\n",
        "else:\n",
        "    print(\"F (You are fail)\")"
      ],
      "metadata": {
        "colab": {
          "base_uri": "https://localhost:8080/"
        },
        "id": "lVjlGsDv0PQT",
        "outputId": "d729375c-0272-438f-9828-cd3e1e77213c"
      },
      "execution_count": 3,
      "outputs": [
        {
          "output_type": "stream",
          "name": "stdout",
          "text": [
            "Enter your number: 5\n",
            "Enter your number: 78\n",
            "B (Good)\n"
          ]
        }
      ]
    }
  ]
}
